{
 "cells": [
  {
   "cell_type": "code",
   "execution_count": null,
   "metadata": {},
   "outputs": [],
   "source": [
    "# Ask the user to choose a certain matehmatical operation for python to perform\n",
    "oper = input(\"Choose a mathematical operation (Addition, Subtraction, Multiplication, Division): \")\n",
    "# If the user chooses addition, ask them for two values/numbers to add together and python will perform the operation\n",
    "if oper == \"Addition\":\n",
    "    num_1 = int(input(\"Choose a number: \"))\n",
    "    num_2 = int(input(\"Choose another number: \"))\n",
    "    print(num_1 + num_2)\n",
    "# If the user chooses subtraction, ask them for two values/numbers to subtract (number 1 - number 2) and python will perform the operation   \n",
    "elif oper == \"Subtraction\":\n",
    "    num_1 = int(input(\"Choose a number: \"))\n",
    "    num_2 = int(input(\"Choose another number: \"))\n",
    "    print(num_1 - num_2)\n",
    "# If the user chooses multiplication, ask them for two values/numbers to multiply and python will perform the operation\n",
    "elif oper == \"Multiplication\":\n",
    "    num_1 = int(input(\"Choose a number: \"))\n",
    "    num_2 = int(input(\"Choose another number: \"))\n",
    "    print(num_1 * num_2)\n",
    "# If the user chooses division, ask them for a value/number for the dividend, as well as for the divisor, and python will perform the operation (dividend / divisor)    \n",
    "elif oper == \"Division\":\n",
    "    dividend = int(input(\"Choose a number: \"))\n",
    "    divisor = int(input(\"Choose another number: \"))\n",
    "    print(dividend / divisor)\n",
    "# If the user chooses any other mathematical operation, python will not support it   \n",
    "else:\n",
    "    print(\"Operation not supported.\")"
   ]
  }
 ],
 "metadata": {
  "kernelspec": {
   "display_name": "Python 3",
   "language": "python",
   "name": "python3"
  },
  "language_info": {
   "codemirror_mode": {
    "name": "ipython",
    "version": 3
   },
   "file_extension": ".py",
   "mimetype": "text/x-python",
   "name": "python",
   "nbconvert_exporter": "python",
   "pygments_lexer": "ipython3",
   "version": "3.8.5"
  }
 },
 "nbformat": 4,
 "nbformat_minor": 4
}
